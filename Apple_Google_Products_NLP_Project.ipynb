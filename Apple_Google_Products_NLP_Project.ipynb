{
 "cells": [
  {
   "cell_type": "markdown",
   "id": "ee8a5684",
   "metadata": {},
   "source": [
    "# Twitter Sentiment about Apple and Google\n",
    "\n",
    "## Business Understanding\n",
    "\n",
    "* The project is meant to analyze twits concerning sentiments that people on the internet have about Google and Apple products. \n",
    "* The dataset contains a total of 9,000 tweets which are an amalgamation of either positive, negative, or either tweets that containing varying sentiments concerning the products"
   ]
  },
  {
   "cell_type": "markdown",
   "id": "128a5f53",
   "metadata": {},
   "source": [
    "# Data Understanding and Cleaning"
   ]
  },
  {
   "cell_type": "code",
   "execution_count": null,
   "id": "c8933ffb",
   "metadata": {},
   "outputs": [],
   "source": [
    "#import the libraries\n",
    "import pandas as pd \n",
    "import numpy as np \n",
    "import seaborn as sns \n",
    "import matplotlib.pyplot as plt \n",
    "from IPython.display import display\n",
    "import warnings \n",
    "warnings.filterwarnings(\"ignore\")\n",
    "import re\n",
    "\n",
    "\n",
    "#import sklearn libraries\n",
    "from sklearn.preprocessing import LabelEncoder, OneHotEncoder, StandardScaler, MinMaxScaler\n",
    "from sklearn.model_selection import train_test_split\n",
    "from imblearn.over_sampling import SMOTE, SMOTEN\n",
    "from sklearn.linear_model import LogisticRegression\n",
    "from sklearn.tree import DecisionTreeClassifier\n",
    "from sklearn.ensemble import RandomForestClassifier\n",
    "from xgboost import XGBClassifier\n",
    "from sklearn.model_selection import GridSearchCV, RandomizedSearchCV\n",
    "from scipy.stats import randint\n",
    "from sklearn.metrics import accuracy_score, confusion_matrix, classification_report,roc_auc_score, roc_curve"
   ]
  },
  {
   "cell_type": "code",
   "execution_count": 13,
   "id": "4ab9b6b6",
   "metadata": {},
   "outputs": [
    {
     "data": {
      "application/vnd.microsoft.datawrangler.viewer.v0+json": {
       "columns": [
        {
         "name": "index",
         "rawType": "int64",
         "type": "integer"
        },
        {
         "name": "tweet_text",
         "rawType": "object",
         "type": "string"
        },
        {
         "name": "emotion_in_tweet_is_directed_at",
         "rawType": "object",
         "type": "string"
        },
        {
         "name": "is_there_an_emotion_directed_at_a_brand_or_product",
         "rawType": "object",
         "type": "string"
        }
       ],
       "ref": "f05100f2-3c2d-4a58-a0bf-3f44145d10ce",
       "rows": [
        [
         "0",
         ".@wesley83 I have a 3G iPhone. After 3 hrs tweeting at #RISE_Austin, it was dead!  I need to upgrade. Plugin stations at #SXSW.",
         "iPhone",
         "Negative emotion"
        ],
        [
         "1",
         "@jessedee Know about @fludapp ? Awesome iPad/iPhone app that you'll likely appreciate for its design. Also, they're giving free Ts at #SXSW",
         "iPad or iPhone App",
         "Positive emotion"
        ],
        [
         "2",
         "@swonderlin Can not wait for #iPad 2 also. They should sale them down at #SXSW.",
         "iPad",
         "Positive emotion"
        ],
        [
         "3",
         "@sxsw I hope this year's festival isn't as crashy as this year's iPhone app. #sxsw",
         "iPad or iPhone App",
         "Negative emotion"
        ],
        [
         "4",
         "@sxtxstate great stuff on Fri #SXSW: Marissa Mayer (Google), Tim O'Reilly (tech books/conferences) &amp; Matt Mullenweg (Wordpress)",
         "Google",
         "Positive emotion"
        ]
       ],
       "shape": {
        "columns": 3,
        "rows": 5
       }
      },
      "text/html": [
       "<div>\n",
       "<style scoped>\n",
       "    .dataframe tbody tr th:only-of-type {\n",
       "        vertical-align: middle;\n",
       "    }\n",
       "\n",
       "    .dataframe tbody tr th {\n",
       "        vertical-align: top;\n",
       "    }\n",
       "\n",
       "    .dataframe thead th {\n",
       "        text-align: right;\n",
       "    }\n",
       "</style>\n",
       "<table border=\"1\" class=\"dataframe\">\n",
       "  <thead>\n",
       "    <tr style=\"text-align: right;\">\n",
       "      <th></th>\n",
       "      <th>tweet_text</th>\n",
       "      <th>emotion_in_tweet_is_directed_at</th>\n",
       "      <th>is_there_an_emotion_directed_at_a_brand_or_product</th>\n",
       "    </tr>\n",
       "  </thead>\n",
       "  <tbody>\n",
       "    <tr>\n",
       "      <th>0</th>\n",
       "      <td>.@wesley83 I have a 3G iPhone. After 3 hrs twe...</td>\n",
       "      <td>iPhone</td>\n",
       "      <td>Negative emotion</td>\n",
       "    </tr>\n",
       "    <tr>\n",
       "      <th>1</th>\n",
       "      <td>@jessedee Know about @fludapp ? Awesome iPad/i...</td>\n",
       "      <td>iPad or iPhone App</td>\n",
       "      <td>Positive emotion</td>\n",
       "    </tr>\n",
       "    <tr>\n",
       "      <th>2</th>\n",
       "      <td>@swonderlin Can not wait for #iPad 2 also. The...</td>\n",
       "      <td>iPad</td>\n",
       "      <td>Positive emotion</td>\n",
       "    </tr>\n",
       "    <tr>\n",
       "      <th>3</th>\n",
       "      <td>@sxsw I hope this year's festival isn't as cra...</td>\n",
       "      <td>iPad or iPhone App</td>\n",
       "      <td>Negative emotion</td>\n",
       "    </tr>\n",
       "    <tr>\n",
       "      <th>4</th>\n",
       "      <td>@sxtxstate great stuff on Fri #SXSW: Marissa M...</td>\n",
       "      <td>Google</td>\n",
       "      <td>Positive emotion</td>\n",
       "    </tr>\n",
       "  </tbody>\n",
       "</table>\n",
       "</div>"
      ],
      "text/plain": [
       "                                          tweet_text  \\\n",
       "0  .@wesley83 I have a 3G iPhone. After 3 hrs twe...   \n",
       "1  @jessedee Know about @fludapp ? Awesome iPad/i...   \n",
       "2  @swonderlin Can not wait for #iPad 2 also. The...   \n",
       "3  @sxsw I hope this year's festival isn't as cra...   \n",
       "4  @sxtxstate great stuff on Fri #SXSW: Marissa M...   \n",
       "\n",
       "  emotion_in_tweet_is_directed_at  \\\n",
       "0                          iPhone   \n",
       "1              iPad or iPhone App   \n",
       "2                            iPad   \n",
       "3              iPad or iPhone App   \n",
       "4                          Google   \n",
       "\n",
       "  is_there_an_emotion_directed_at_a_brand_or_product  \n",
       "0                                   Negative emotion  \n",
       "1                                   Positive emotion  \n",
       "2                                   Positive emotion  \n",
       "3                                   Negative emotion  \n",
       "4                                   Positive emotion  "
      ]
     },
     "metadata": {},
     "output_type": "display_data"
    }
   ],
   "source": [
    "data = pd.read_csv(\"Data/tweet_product_company.csv\", encoding='latin-1')\n",
    "display(data.head())"
   ]
  },
  {
   "cell_type": "code",
   "execution_count": 10,
   "id": "78d53aab",
   "metadata": {},
   "outputs": [
    {
     "data": {
      "application/vnd.microsoft.datawrangler.viewer.v0+json": {
       "columns": [
        {
         "name": "index",
         "rawType": "int64",
         "type": "integer"
        },
        {
         "name": "tweet_text",
         "rawType": "object",
         "type": "string"
        },
        {
         "name": "emotion_in_tweet_is_directed_at",
         "rawType": "object",
         "type": "unknown"
        },
        {
         "name": "is_there_an_emotion_directed_at_a_brand_or_product",
         "rawType": "object",
         "type": "string"
        }
       ],
       "ref": "5cfd61e2-c49b-4fec-96f1-8f97ff242806",
       "rows": [
        [
         "9088",
         "Ipad everywhere. #SXSW {link}",
         "iPad",
         "Positive emotion"
        ],
        [
         "9089",
         "Wave, buzz... RT @mention We interrupt your regularly scheduled #sxsw geek programming with big news {link}  #google #circles",
         null,
         "No emotion toward brand or product"
        ],
        [
         "9090",
         "Google's Zeiger, a physician never reported potential AE. Yet FDA relies on physicians. &quot;We're operating w/out data.&quot; #sxsw #health2dev",
         null,
         "No emotion toward brand or product"
        ],
        [
         "9091",
         "Some Verizon iPhone customers complained their time fell back an hour this weekend.  Of course they were the New Yorkers who attended #SXSW.",
         null,
         "No emotion toward brand or product"
        ],
        [
         "9092",
         "Ï¡Ïàü_ÊÎÒ£Áââ_£â_ÛâRT @mention Google Tests ÛÏCheck-in OffersÛ At #SXSW {link}",
         null,
         "No emotion toward brand or product"
        ]
       ],
       "shape": {
        "columns": 3,
        "rows": 5
       }
      },
      "text/html": [
       "<div>\n",
       "<style scoped>\n",
       "    .dataframe tbody tr th:only-of-type {\n",
       "        vertical-align: middle;\n",
       "    }\n",
       "\n",
       "    .dataframe tbody tr th {\n",
       "        vertical-align: top;\n",
       "    }\n",
       "\n",
       "    .dataframe thead th {\n",
       "        text-align: right;\n",
       "    }\n",
       "</style>\n",
       "<table border=\"1\" class=\"dataframe\">\n",
       "  <thead>\n",
       "    <tr style=\"text-align: right;\">\n",
       "      <th></th>\n",
       "      <th>tweet_text</th>\n",
       "      <th>emotion_in_tweet_is_directed_at</th>\n",
       "      <th>is_there_an_emotion_directed_at_a_brand_or_product</th>\n",
       "    </tr>\n",
       "  </thead>\n",
       "  <tbody>\n",
       "    <tr>\n",
       "      <th>9088</th>\n",
       "      <td>Ipad everywhere. #SXSW {link}</td>\n",
       "      <td>iPad</td>\n",
       "      <td>Positive emotion</td>\n",
       "    </tr>\n",
       "    <tr>\n",
       "      <th>9089</th>\n",
       "      <td>Wave, buzz... RT @mention We interrupt your re...</td>\n",
       "      <td>NaN</td>\n",
       "      <td>No emotion toward brand or product</td>\n",
       "    </tr>\n",
       "    <tr>\n",
       "      <th>9090</th>\n",
       "      <td>Google's Zeiger, a physician never reported po...</td>\n",
       "      <td>NaN</td>\n",
       "      <td>No emotion toward brand or product</td>\n",
       "    </tr>\n",
       "    <tr>\n",
       "      <th>9091</th>\n",
       "      <td>Some Verizon iPhone customers complained their...</td>\n",
       "      <td>NaN</td>\n",
       "      <td>No emotion toward brand or product</td>\n",
       "    </tr>\n",
       "    <tr>\n",
       "      <th>9092</th>\n",
       "      <td>Ï¡Ïàü_ÊÎÒ£Áââ_£â_ÛâRT @...</td>\n",
       "      <td>NaN</td>\n",
       "      <td>No emotion toward brand or product</td>\n",
       "    </tr>\n",
       "  </tbody>\n",
       "</table>\n",
       "</div>"
      ],
      "text/plain": [
       "                                             tweet_text  \\\n",
       "9088                      Ipad everywhere. #SXSW {link}   \n",
       "9089  Wave, buzz... RT @mention We interrupt your re...   \n",
       "9090  Google's Zeiger, a physician never reported po...   \n",
       "9091  Some Verizon iPhone customers complained their...   \n",
       "9092  Ï¡Ïàü_ÊÎÒ£Áââ_£â_ÛâRT @...   \n",
       "\n",
       "     emotion_in_tweet_is_directed_at  \\\n",
       "9088                            iPad   \n",
       "9089                             NaN   \n",
       "9090                             NaN   \n",
       "9091                             NaN   \n",
       "9092                             NaN   \n",
       "\n",
       "     is_there_an_emotion_directed_at_a_brand_or_product  \n",
       "9088                                   Positive emotion  \n",
       "9089                 No emotion toward brand or product  \n",
       "9090                 No emotion toward brand or product  \n",
       "9091                 No emotion toward brand or product  \n",
       "9092                 No emotion toward brand or product  "
      ]
     },
     "execution_count": 10,
     "metadata": {},
     "output_type": "execute_result"
    }
   ],
   "source": [
    "data.tail()"
   ]
  },
  {
   "cell_type": "code",
   "execution_count": 14,
   "id": "52a61198",
   "metadata": {},
   "outputs": [
    {
     "data": {
      "application/vnd.microsoft.datawrangler.viewer.v0+json": {
       "columns": [
        {
         "name": "index",
         "rawType": "object",
         "type": "string"
        },
        {
         "name": "count",
         "rawType": "object",
         "type": "unknown"
        },
        {
         "name": "unique",
         "rawType": "object",
         "type": "unknown"
        },
        {
         "name": "top",
         "rawType": "object",
         "type": "string"
        },
        {
         "name": "freq",
         "rawType": "object",
         "type": "unknown"
        }
       ],
       "ref": "42ae606d-fed9-4d54-9118-ba828905c755",
       "rows": [
        [
         "tweet_text",
         "9092",
         "9065",
         "RT @mention Marissa Mayer: Google Will Connect the Digital &amp; Physical Worlds Through Mobile - {link} #sxsw",
         "5"
        ],
        [
         "emotion_in_tweet_is_directed_at",
         "3291",
         "9",
         "iPad",
         "946"
        ],
        [
         "is_there_an_emotion_directed_at_a_brand_or_product",
         "9093",
         "4",
         "No emotion toward brand or product",
         "5389"
        ]
       ],
       "shape": {
        "columns": 4,
        "rows": 3
       }
      },
      "text/html": [
       "<div>\n",
       "<style scoped>\n",
       "    .dataframe tbody tr th:only-of-type {\n",
       "        vertical-align: middle;\n",
       "    }\n",
       "\n",
       "    .dataframe tbody tr th {\n",
       "        vertical-align: top;\n",
       "    }\n",
       "\n",
       "    .dataframe thead th {\n",
       "        text-align: right;\n",
       "    }\n",
       "</style>\n",
       "<table border=\"1\" class=\"dataframe\">\n",
       "  <thead>\n",
       "    <tr style=\"text-align: right;\">\n",
       "      <th></th>\n",
       "      <th>count</th>\n",
       "      <th>unique</th>\n",
       "      <th>top</th>\n",
       "      <th>freq</th>\n",
       "    </tr>\n",
       "  </thead>\n",
       "  <tbody>\n",
       "    <tr>\n",
       "      <th>tweet_text</th>\n",
       "      <td>9092</td>\n",
       "      <td>9065</td>\n",
       "      <td>RT @mention Marissa Mayer: Google Will Connect...</td>\n",
       "      <td>5</td>\n",
       "    </tr>\n",
       "    <tr>\n",
       "      <th>emotion_in_tweet_is_directed_at</th>\n",
       "      <td>3291</td>\n",
       "      <td>9</td>\n",
       "      <td>iPad</td>\n",
       "      <td>946</td>\n",
       "    </tr>\n",
       "    <tr>\n",
       "      <th>is_there_an_emotion_directed_at_a_brand_or_product</th>\n",
       "      <td>9093</td>\n",
       "      <td>4</td>\n",
       "      <td>No emotion toward brand or product</td>\n",
       "      <td>5389</td>\n",
       "    </tr>\n",
       "  </tbody>\n",
       "</table>\n",
       "</div>"
      ],
      "text/plain": [
       "                                                   count unique  \\\n",
       "tweet_text                                          9092   9065   \n",
       "emotion_in_tweet_is_directed_at                     3291      9   \n",
       "is_there_an_emotion_directed_at_a_brand_or_product  9093      4   \n",
       "\n",
       "                                                                                                  top  \\\n",
       "tweet_text                                          RT @mention Marissa Mayer: Google Will Connect...   \n",
       "emotion_in_tweet_is_directed_at                                                                  iPad   \n",
       "is_there_an_emotion_directed_at_a_brand_or_product                 No emotion toward brand or product   \n",
       "\n",
       "                                                    freq  \n",
       "tweet_text                                             5  \n",
       "emotion_in_tweet_is_directed_at                      946  \n",
       "is_there_an_emotion_directed_at_a_brand_or_product  5389  "
      ]
     },
     "execution_count": 14,
     "metadata": {},
     "output_type": "execute_result"
    }
   ],
   "source": [
    "data.describe().T"
   ]
  },
  {
   "cell_type": "code",
   "execution_count": 15,
   "id": "8af69b55",
   "metadata": {},
   "outputs": [
    {
     "name": "stdout",
     "output_type": "stream",
     "text": [
      "<class 'pandas.core.frame.DataFrame'>\n",
      "RangeIndex: 9093 entries, 0 to 9092\n",
      "Data columns (total 3 columns):\n",
      " #   Column                                              Non-Null Count  Dtype \n",
      "---  ------                                              --------------  ----- \n",
      " 0   tweet_text                                          9092 non-null   object\n",
      " 1   emotion_in_tweet_is_directed_at                     3291 non-null   object\n",
      " 2   is_there_an_emotion_directed_at_a_brand_or_product  9093 non-null   object\n",
      "dtypes: object(3)\n",
      "memory usage: 213.2+ KB\n"
     ]
    }
   ],
   "source": [
    "data.info()"
   ]
  },
  {
   "cell_type": "code",
   "execution_count": 17,
   "id": "90913d34",
   "metadata": {},
   "outputs": [
    {
     "data": {
      "application/vnd.microsoft.datawrangler.viewer.v0+json": {
       "columns": [
        {
         "name": "index",
         "rawType": "object",
         "type": "string"
        },
        {
         "name": "0",
         "rawType": "int64",
         "type": "integer"
        }
       ],
       "ref": "804ffdff-be36-40d0-bae9-e1feb82ab025",
       "rows": [
        [
         "tweet_text",
         "1"
        ],
        [
         "emotion_in_tweet_is_directed_at",
         "5802"
        ],
        [
         "is_there_an_emotion_directed_at_a_brand_or_product",
         "0"
        ]
       ],
       "shape": {
        "columns": 1,
        "rows": 3
       }
      },
      "text/plain": [
       "tweet_text                                               1\n",
       "emotion_in_tweet_is_directed_at                       5802\n",
       "is_there_an_emotion_directed_at_a_brand_or_product       0\n",
       "dtype: int64"
      ]
     },
     "execution_count": 17,
     "metadata": {},
     "output_type": "execute_result"
    }
   ],
   "source": [
    "# checking for null values\n",
    "data.isna().sum()"
   ]
  },
  {
   "cell_type": "code",
   "execution_count": 19,
   "id": "8b88ae29",
   "metadata": {},
   "outputs": [
    {
     "name": "stdout",
     "output_type": "stream",
     "text": [
      "is_there_an_emotion_directed_at_a_brand_or_product\n",
      "No emotion toward brand or product    5298\n",
      "Positive emotion                       306\n",
      "I can't tell                           147\n",
      "Negative emotion                        51\n",
      "Name: count, dtype: int64\n"
     ]
    }
   ],
   "source": [
    "# Check if missing values correlate with specific products or sentiment patterns\n",
    "print(data[data['emotion_in_tweet_is_directed_at'].isna()]['is_there_an_emotion_directed_at_a_brand_or_product'].value_counts())\n"
   ]
  },
  {
   "cell_type": "code",
   "execution_count": 20,
   "id": "8dae682a",
   "metadata": {},
   "outputs": [
    {
     "name": "stdout",
     "output_type": "stream",
     "text": [
      "5     @teachntech00 New iPad Apps For #SpeechTherapy...\n",
      "6                                                   NaN\n",
      "16    Holler Gram for iPad on the iTunes App Store -...\n",
      "32    Attn: All  #SXSW frineds, @mention Register fo...\n",
      "33        Anyone at  #sxsw want to sell their old iPad?\n",
      "34    Anyone at  #SXSW who bought the new iPad want ...\n",
      "35    At #sxsw.  Oooh. RT @mention Google to Launch ...\n",
      "37    SPIN Play - a new concept in music discovery f...\n",
      "39    VatorNews - Google And Apple Force Print Media...\n",
      "41    HootSuite - HootSuite Mobile for #SXSW ~ Updat...\n",
      "42    Hey #SXSW - How long do you think it takes us ...\n",
      "43    Mashable! - The iPad 2 Takes Over SXSW [VIDEO]...\n",
      "44    For I-Pad ?RT @mention New #UberSocial for #iP...\n",
      "46    Hand-Held Û÷HoboÛª: Drafthouse launches Û÷H...\n",
      "48    Orly....? ÛÏ@mention Google set to launch new...\n",
      "50    Khoi Vinh (@mention says Conde Nast's headlong...\n",
      "51    ÛÏ@mention {link} &lt;-- HELP ME FORWARD THIS...\n",
      "52    ÷¼ WHAT? ÷_ {link} ã_ #edchat #musedchat #s...\n",
      "53    .@mention @mention on the location-based 'fast...\n",
      "54    ÛÏ@mention @mention #Google Will Connect the ...\n",
      "Name: tweet_text, dtype: object\n"
     ]
    }
   ],
   "source": [
    "# Check tweet patterns\n",
    "print(data[data['emotion_in_tweet_is_directed_at'].isna()]['tweet_text'].head(20))"
   ]
  },
  {
   "cell_type": "code",
   "execution_count": 22,
   "id": "813c8087",
   "metadata": {},
   "outputs": [
    {
     "name": "stdout",
     "output_type": "stream",
     "text": [
      "is_there_an_emotion_directed_at_a_brand_or_product  emotion_in_tweet_is_directed_at\n",
      "I can't tell                                        No emotion mentioned                147\n",
      "                                                    iPad                                  4\n",
      "                                                    Apple                                 2\n",
      "                                                    Google                                1\n",
      "                                                    Other Google product or service       1\n",
      "                                                    iPhone                                1\n",
      "Negative emotion                                    iPad                                125\n",
      "                                                    iPhone                              103\n",
      "                                                    Apple                                95\n",
      "                                                    Google                               68\n",
      "                                                    iPad or iPhone App                   63\n",
      "                                                    No emotion mentioned                 51\n",
      "                                                    Other Google product or service      47\n",
      "                                                    Android                               8\n",
      "                                                    Android App                           8\n",
      "                                                    Other Apple product or service        2\n",
      "No emotion toward brand or product                  No emotion mentioned               5298\n",
      "                                                    iPad                                 24\n",
      "                                                    Apple                                21\n",
      "                                                    Google                               15\n",
      "                                                    iPad or iPhone App                   10\n",
      "                                                    Other Google product or service       9\n",
      "                                                    iPhone                                9\n",
      "                                                    Android                               1\n",
      "                                                    Android App                           1\n",
      "                                                    Other Apple product or service        1\n",
      "Positive emotion                                    iPad                                793\n",
      "                                                    Apple                               543\n",
      "                                                    iPad or iPhone App                  397\n",
      "                                                    Google                              346\n",
      "                                                    No emotion mentioned                306\n",
      "                                                    Other Google product or service     236\n",
      "                                                    iPhone                              184\n",
      "                                                    Android App                          72\n",
      "                                                    Android                              69\n",
      "                                                    Other Apple product or service       32\n",
      "Name: count, dtype: int64\n"
     ]
    }
   ],
   "source": [
    "# Check the relationship first\n",
    "print(data.groupby('is_there_an_emotion_directed_at_a_brand_or_product')['emotion_in_tweet_is_directed_at'].value_counts())\n"
   ]
  },
  {
   "cell_type": "code",
   "execution_count": 23,
   "id": "d883f21a",
   "metadata": {},
   "outputs": [],
   "source": [
    "# Then fill strategically\n",
    "data['emotion_in_tweet_is_directed_at'].fillna('No emotion mentioned', inplace=True)\n"
   ]
  },
  {
   "cell_type": "code",
   "execution_count": 24,
   "id": "7afbe0e3",
   "metadata": {},
   "outputs": [
    {
     "data": {
      "application/vnd.microsoft.datawrangler.viewer.v0+json": {
       "columns": [
        {
         "name": "index",
         "rawType": "object",
         "type": "string"
        },
        {
         "name": "0",
         "rawType": "int64",
         "type": "integer"
        }
       ],
       "ref": "8db79f19-3f77-43a3-b412-1f31116a85c7",
       "rows": [
        [
         "tweet_text",
         "1"
        ],
        [
         "emotion_in_tweet_is_directed_at",
         "0"
        ],
        [
         "is_there_an_emotion_directed_at_a_brand_or_product",
         "0"
        ]
       ],
       "shape": {
        "columns": 1,
        "rows": 3
       }
      },
      "text/plain": [
       "tweet_text                                            1\n",
       "emotion_in_tweet_is_directed_at                       0\n",
       "is_there_an_emotion_directed_at_a_brand_or_product    0\n",
       "dtype: int64"
      ]
     },
     "execution_count": 24,
     "metadata": {},
     "output_type": "execute_result"
    }
   ],
   "source": [
    "# Re-checking for null values\n",
    "data.isna().sum()"
   ]
  },
  {
   "cell_type": "code",
   "execution_count": 25,
   "id": "fcd51d72",
   "metadata": {},
   "outputs": [
    {
     "name": "stdout",
     "output_type": "stream",
     "text": [
      "  tweet_text emotion_in_tweet_is_directed_at  \\\n",
      "6        NaN            No emotion mentioned   \n",
      "\n",
      "  is_there_an_emotion_directed_at_a_brand_or_product  \n",
      "6                 No emotion toward brand or product  \n"
     ]
    }
   ],
   "source": [
    "# Find the row with missing data\n",
    "missing_row = data[data.isna().any(axis=1)]\n",
    "print(missing_row)"
   ]
  },
  {
   "cell_type": "code",
   "execution_count": 27,
   "id": "98f48750",
   "metadata": {},
   "outputs": [],
   "source": [
    "# drop the mising row\n",
    "data = data.dropna()"
   ]
  },
  {
   "cell_type": "code",
   "execution_count": 28,
   "metadata": {},
   "outputs": [
    {
     "data": {
      "application/vnd.microsoft.datawrangler.viewer.v0+json": {
       "columns": [
        {
         "name": "index",
         "rawType": "object",
         "type": "string"
        },
        {
         "name": "0",
         "rawType": "int64",
         "type": "integer"
        }
       ],
       "ref": "0854e63d-6cf7-4e3b-99aa-f39dbf1caeaf",
       "rows": [
        [
         "tweet_text",
         "0"
        ],
        [
         "emotion_in_tweet_is_directed_at",
         "0"
        ],
        [
         "is_there_an_emotion_directed_at_a_brand_or_product",
         "0"
        ]
       ],
       "shape": {
        "columns": 1,
        "rows": 3
       }
      },
      "text/plain": [
       "tweet_text                                            0\n",
       "emotion_in_tweet_is_directed_at                       0\n",
       "is_there_an_emotion_directed_at_a_brand_or_product    0\n",
       "dtype: int64"
      ]
     },
     "execution_count": 28,
     "metadata": {},
     "output_type": "execute_result"
    }
   ],
   "source": [
    "# Final check for null values\n",
    "data.isna().sum()"
   ]
  },
  {
   "cell_type": "code",
   "execution_count": 29,
   "id": "5a9fa2cf",
   "metadata": {},
   "outputs": [
    {
     "name": "stdout",
     "output_type": "stream",
     "text": [
      "                                             tweet_text  \\\n",
      "7     #SXSW is just starting, #CTIA is around the co...   \n",
      "9     Counting down the days to #sxsw plus strong Ca...   \n",
      "17    I just noticed DST is coming this weekend. How...   \n",
      "20    Need to buy an iPad2 while I'm in Austin at #s...   \n",
      "21    Oh. My. God. The #SXSW app for iPad is pure, u...   \n",
      "24    Really enjoying the changes in Gowalla 3.0 for...   \n",
      "466      Before It Even Begins, Apple Wins #SXSW {link}   \n",
      "468      Before It Even Begins, Apple Wins #SXSW {link}   \n",
      "774   Google to Launch Major New Social Network Call...   \n",
      "776   Google to Launch Major New Social Network Call...   \n",
      "2230  Marissa Mayer: Google Will Connect the Digital...   \n",
      "2232  Marissa Mayer: Google Will Connect the Digital...   \n",
      "2559  Counting down the days to #sxsw plus strong Ca...   \n",
      "3950  Really enjoying the changes in Gowalla 3.0 for...   \n",
      "3962  #SXSW is just starting, #CTIA is around the co...   \n",
      "4897  Oh. My. God. The #SXSW app for iPad is pure, u...   \n",
      "5336  RT @mention ÷¼ GO BEYOND BORDERS! ÷_ {link} ...   \n",
      "5338  RT @mention ÷¼ GO BEYOND BORDERS! ÷_ {link} ...   \n",
      "5339  RT @mention ÷¼ Happy Woman's Day! Make love, ...   \n",
      "5341  RT @mention ÷¼ Happy Woman's Day! Make love, ...   \n",
      "5879  RT @mention Google to Launch Major New Social ...   \n",
      "5880  RT @mention Google to Launch Major New Social ...   \n",
      "5881  RT @mention Google to Launch Major New Social ...   \n",
      "5882  RT @mention Google to Launch Major New Social ...   \n",
      "5883  RT @mention Google to Launch Major New Social ...   \n",
      "5884  RT @mention Google to Launch Major New Social ...   \n",
      "5885  RT @mention Google to Launch Major New Social ...   \n",
      "6292  RT @mention Marissa Mayer: Google Will Connect...   \n",
      "6294  RT @mention Marissa Mayer: Google Will Connect...   \n",
      "6295  RT @mention Marissa Mayer: Google Will Connect...   \n",
      "6296  RT @mention Marissa Mayer: Google Will Connect...   \n",
      "6297  RT @mention Marissa Mayer: Google Will Connect...   \n",
      "6298  RT @mention Marissa Mayer: Google Will Connect...   \n",
      "6299  RT @mention Marissa Mayer: Google Will Connect...   \n",
      "6300  RT @mention Marissa Mayer: Google Will Connect...   \n",
      "6544  RT @mention RT @mention Google to Launch Major...   \n",
      "6546  RT @mention RT @mention Google to Launch Major...   \n",
      "8483  I just noticed DST is coming this weekend. How...   \n",
      "8747  Need to buy an iPad2 while I'm in Austin at #s...   \n",
      "\n",
      "     emotion_in_tweet_is_directed_at  \\\n",
      "7                            Android   \n",
      "9                              Apple   \n",
      "17                            iPhone   \n",
      "20                              iPad   \n",
      "21                iPad or iPhone App   \n",
      "24                       Android App   \n",
      "466                            Apple   \n",
      "468                            Apple   \n",
      "774             No emotion mentioned   \n",
      "776             No emotion mentioned   \n",
      "2230            No emotion mentioned   \n",
      "2232            No emotion mentioned   \n",
      "2559                           Apple   \n",
      "3950                     Android App   \n",
      "3962                         Android   \n",
      "4897              iPad or iPhone App   \n",
      "5336            No emotion mentioned   \n",
      "5338            No emotion mentioned   \n",
      "5339            No emotion mentioned   \n",
      "5341            No emotion mentioned   \n",
      "5879            No emotion mentioned   \n",
      "5880            No emotion mentioned   \n",
      "5881            No emotion mentioned   \n",
      "5882            No emotion mentioned   \n",
      "5883            No emotion mentioned   \n",
      "5884            No emotion mentioned   \n",
      "5885            No emotion mentioned   \n",
      "6292                          Google   \n",
      "6294            No emotion mentioned   \n",
      "6295            No emotion mentioned   \n",
      "6296                          Google   \n",
      "6297            No emotion mentioned   \n",
      "6298                          Google   \n",
      "6299            No emotion mentioned   \n",
      "6300            No emotion mentioned   \n",
      "6544            No emotion mentioned   \n",
      "6546            No emotion mentioned   \n",
      "8483                          iPhone   \n",
      "8747                            iPad   \n",
      "\n",
      "     is_there_an_emotion_directed_at_a_brand_or_product  \n",
      "7                                      Positive emotion  \n",
      "9                                      Positive emotion  \n",
      "17                                     Negative emotion  \n",
      "20                                     Positive emotion  \n",
      "21                                     Positive emotion  \n",
      "24                                     Positive emotion  \n",
      "466                                    Positive emotion  \n",
      "468                                    Positive emotion  \n",
      "774                  No emotion toward brand or product  \n",
      "776                  No emotion toward brand or product  \n",
      "2230                 No emotion toward brand or product  \n",
      "2232                 No emotion toward brand or product  \n",
      "2559                                   Positive emotion  \n",
      "3950                                   Positive emotion  \n",
      "3962                                   Positive emotion  \n",
      "4897                                   Positive emotion  \n",
      "5336                 No emotion toward brand or product  \n",
      "5338                 No emotion toward brand or product  \n",
      "5339                 No emotion toward brand or product  \n",
      "5341                 No emotion toward brand or product  \n",
      "5879                 No emotion toward brand or product  \n",
      "5880                 No emotion toward brand or product  \n",
      "5881                 No emotion toward brand or product  \n",
      "5882                 No emotion toward brand or product  \n",
      "5883                 No emotion toward brand or product  \n",
      "5884                 No emotion toward brand or product  \n",
      "5885                 No emotion toward brand or product  \n",
      "6292                                   Positive emotion  \n",
      "6294                 No emotion toward brand or product  \n",
      "6295                 No emotion toward brand or product  \n",
      "6296                                   Positive emotion  \n",
      "6297                 No emotion toward brand or product  \n",
      "6298                                   Positive emotion  \n",
      "6299                 No emotion toward brand or product  \n",
      "6300                 No emotion toward brand or product  \n",
      "6544                 No emotion toward brand or product  \n",
      "6546                 No emotion toward brand or product  \n",
      "8483                                   Negative emotion  \n",
      "8747                                   Positive emotion  \n"
     ]
    }
   ],
   "source": [
    "# Check for duplicates\n",
    "duplicates = data[data.duplicated(keep=False)]\n",
    "print(duplicates)"
   ]
  },
  {
   "cell_type": "markdown",
   "id": "ce915adc",
   "metadata": {},
   "source": [
    "## Now, from what I see above, I think that there are some similarities in the tweets because some of them carry the same elements such as hashtags whihc often tend to have the same words and Phrasings. "
   ]
  },
  {
   "cell_type": "code",
   "execution_count": null,
   "metadata": {},
   "outputs": [],
   "source": []
  },
  {
   "cell_type": "code",
   "execution_count": null,
   "metadata": {},
   "outputs": [],
   "source": []
  },
  {
   "cell_type": "code",
   "execution_count": null,
   "metadata": {},
   "outputs": [],
   "source": []
  },
  {
   "cell_type": "code",
   "execution_count": null,
   "metadata": {},
   "outputs": [],
   "source": []
  },
  {
   "cell_type": "code",
   "execution_count": null,
   "metadata": {},
   "outputs": [],
   "source": []
  },
  {
   "cell_type": "code",
   "execution_count": null,
   "metadata": {},
   "outputs": [],
   "source": []
  },
  {
   "cell_type": "code",
   "execution_count": null,
   "metadata": {},
   "outputs": [],
   "source": []
  },
  {
   "cell_type": "code",
   "execution_count": null,
   "id": "4887ae70",
   "metadata": {},
   "outputs": [],
   "source": []
  },
  {
   "cell_type": "markdown",
   "id": "3eb45b17",
   "metadata": {},
   "source": [
    "# Exploratory Data Analysis (EDA)"
   ]
  },
  {
   "cell_type": "markdown",
   "id": "5b3154d0",
   "metadata": {},
   "source": [
    "# Feature Engineering"
   ]
  },
  {
   "cell_type": "markdown",
   "id": "7b266f86",
   "metadata": {},
   "source": [
    "# Model Building "
   ]
  },
  {
   "cell_type": "markdown",
   "id": "7785850e",
   "metadata": {},
   "source": [
    "# Conclusion and Evaluation"
   ]
  }
 ],
 "metadata": {
  "kernelspec": {
   "display_name": "Data_Science_Moringa",
   "language": "python",
   "name": "python3"
  },
  "language_info": {
   "codemirror_mode": {
    "name": "ipython",
    "version": 3
   },
   "file_extension": ".py",
   "mimetype": "text/x-python",
   "name": "python",
   "nbconvert_exporter": "python",
   "pygments_lexer": "ipython3",
   "version": "3.11.13"
  }
 },
 "nbformat": 4,
 "nbformat_minor": 5
}
